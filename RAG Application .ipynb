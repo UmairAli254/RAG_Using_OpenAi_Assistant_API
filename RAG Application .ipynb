{
 "cells": [
  {
   "cell_type": "code",
   "execution_count": 201,
   "id": "1ad76399-ef52-43ce-a821-ee8b8cb54775",
   "metadata": {},
   "outputs": [],
   "source": [
    "import openai\n",
    "from openai import OpenAI"
   ]
  },
  {
   "cell_type": "code",
   "execution_count": 202,
   "id": "441d9c75-82c2-4b92-902a-d0327184f6f7",
   "metadata": {},
   "outputs": [
    {
     "data": {
      "text/plain": [
       "<openai.OpenAI at 0x19aa05d9c10>"
      ]
     },
     "execution_count": 202,
     "metadata": {},
     "output_type": "execute_result"
    }
   ],
   "source": [
    "client = OpenAI(api_key=\"enter your api key here\")\n",
    "client"
   ]
  },
  {
   "cell_type": "code",
   "execution_count": 203,
   "id": "2a716f9b-407c-4c7a-a6bd-54609368f68a",
   "metadata": {},
   "outputs": [],
   "source": [
    "uploaded_file = client.files.create(\n",
    "    file = open(\"put your file path here\", \"rb\"),\n",
    "    purpose=\"assistants\"\n",
    ")"
   ]
  },
  {
   "cell_type": "code",
   "execution_count": 204,
   "id": "b65aa8b8-f1ac-43b2-94d0-6edcbe51078a",
   "metadata": {},
   "outputs": [
    {
     "data": {
      "text/plain": [
       "FileObject(id='file-9wCiENp2maX5My6RrkAe6EtI', bytes=1040847, created_at=1720032011, filename='Society Without Money .pdf', object='file', purpose='assistants', status='processed', status_details=None)"
      ]
     },
     "execution_count": 204,
     "metadata": {},
     "output_type": "execute_result"
    }
   ],
   "source": [
    "uploaded_file"
   ]
  },
  {
   "cell_type": "code",
   "execution_count": 205,
   "id": "63c579e0-6405-4f16-acaa-f45cc0e72e2a",
   "metadata": {},
   "outputs": [
    {
     "data": {
      "text/plain": [
       "'file-9wCiENp2maX5My6RrkAe6EtI'"
      ]
     },
     "execution_count": 205,
     "metadata": {},
     "output_type": "execute_result"
    }
   ],
   "source": [
    "uploaded_file.id"
   ]
  },
  {
   "cell_type": "code",
   "execution_count": 206,
   "id": "e5745b22-f0d2-494d-bb51-d35d1859f4fb",
   "metadata": {},
   "outputs": [],
   "source": [
    "# Creating Assistant\n",
    "assistant = client.beta.assistants.create(\n",
    "    name=\"Umair's Assistant\",\n",
    "    instructions=\"You have to answer everything related to the uploaded files\",\n",
    "    # tools=[{\"type\": \"file_search\"}],\n",
    "    model=\"gpt-3.5-turbo\",\n",
    ")"
   ]
  },
  {
   "cell_type": "code",
   "execution_count": 207,
   "id": "0c2e8353-37ab-473b-bdab-0a3f8408c71d",
   "metadata": {},
   "outputs": [
    {
     "data": {
      "text/plain": [
       "Assistant(id='asst_PIZXv7YmvU4cwc37pv8DwRda', created_at=1720032012, description=None, instructions='You have to answer everything related to the uploaded files', metadata={}, model='gpt-3.5-turbo', name=\"Umair's Assistant\", object='assistant', tools=[], response_format='auto', temperature=1.0, tool_resources=ToolResources(code_interpreter=None, file_search=None), top_p=1.0)"
      ]
     },
     "execution_count": 207,
     "metadata": {},
     "output_type": "execute_result"
    }
   ],
   "source": [
    "assistant"
   ]
  },
  {
   "cell_type": "code",
   "execution_count": 208,
   "id": "54313047-7669-4054-8279-9bcf6e289016",
   "metadata": {},
   "outputs": [],
   "source": [
    "# Creating the Thread\n",
    "thread = client.beta.threads.create()"
   ]
  },
  {
   "cell_type": "code",
   "execution_count": 209,
   "id": "07ab6810-6a5b-4052-9355-50c853f557fb",
   "metadata": {},
   "outputs": [
    {
     "data": {
      "text/plain": [
       "Message(id='msg_D3fD4R6vuqCvNTkpipaC7afU', assistant_id=None, attachments=[Attachment(file_id='file-9wCiENp2maX5My6RrkAe6EtI', tools=[FileSearchTool(type='file_search')])], completed_at=None, content=[TextContentBlock(text=Text(annotations=[], value='what is the context in one line and tell the author name in 3 words'), type='text')], created_at=1720032013, incomplete_at=None, incomplete_details=None, metadata={}, object='thread.message', role='user', run_id=None, status=None, thread_id='thread_k454GRA4Ylae07VtLSMi8s0W')"
      ]
     },
     "execution_count": 209,
     "metadata": {},
     "output_type": "execute_result"
    }
   ],
   "source": [
    "client.beta.threads.messages.create(\n",
    "    thread_id=thread.id,\n",
    "    role=\"user\",\n",
    "    content=\"what is the context in one line and tell the author name in 3 words\",\n",
    "    attachments = [\n",
    "        { \"file_id\": uploaded_file.id, \"tools\": [{\"type\": \"file_search\"}] }\n",
    "    ]\n",
    ")\n"
   ]
  },
  {
   "cell_type": "code",
   "execution_count": 210,
   "id": "adaaf44e-e70c-472f-8969-9b5c2246c714",
   "metadata": {},
   "outputs": [],
   "source": [
    "run = client.beta.threads.runs.create(\n",
    "    thread_id=thread.id,\n",
    "    assistant_id=assistant.id,\n",
    ")"
   ]
  },
  {
   "cell_type": "code",
   "execution_count": 211,
   "id": "ed94ece4-fe41-4379-b72c-a438873c6c16",
   "metadata": {},
   "outputs": [],
   "source": [
    "# run"
   ]
  },
  {
   "cell_type": "markdown",
   "id": "3a117718-239c-4084-ab2c-2e0bbdf56018",
   "metadata": {},
   "source": [
    "___\n",
    "## Retrieve Assistant Response"
   ]
  },
  {
   "cell_type": "code",
   "execution_count": 212,
   "id": "f1ae9f54-6bcf-4799-bf39-500d8f29a9d3",
   "metadata": {},
   "outputs": [
    {
     "name": "stdout",
     "output_type": "stream",
     "text": [
      "Context: Research study on climate change impacts on soil microbial communities.\n",
      "Author: Dr. Emily B. Graham.\n"
     ]
    }
   ],
   "source": [
    "while True:\n",
    "    run = client.beta.threads.runs.retrieve(thread_id=thread.id, run_id=run.id)\n",
    "    if run.status==\"completed\":\n",
    "        messages = client.beta.threads.messages.list(thread_id=thread.id)\n",
    "        latest_message = messages.data[0]\n",
    "        text = latest_message.content[0].text.value\n",
    "        print(text)\n",
    "        break;"
   ]
  },
  {
   "cell_type": "code",
   "execution_count": null,
   "id": "925203b5-c359-4e9f-aaff-f254465bb410",
   "metadata": {},
   "outputs": [],
   "source": []
  },
  {
   "cell_type": "code",
   "execution_count": null,
   "id": "3516b9b4-b54d-4126-9bff-0ec2b6779ee6",
   "metadata": {},
   "outputs": [],
   "source": []
  }
 ],
 "metadata": {
  "kernelspec": {
   "display_name": "Python 3 (ipykernel)",
   "language": "python",
   "name": "python3"
  },
  "language_info": {
   "codemirror_mode": {
    "name": "ipython",
    "version": 3
   },
   "file_extension": ".py",
   "mimetype": "text/x-python",
   "name": "python",
   "nbconvert_exporter": "python",
   "pygments_lexer": "ipython3",
   "version": "3.11.5"
  },
  "widgets": {
   "application/vnd.jupyter.widget-state+json": {
    "state": {},
    "version_major": 2,
    "version_minor": 0
   }
  }
 },
 "nbformat": 4,
 "nbformat_minor": 5
}
